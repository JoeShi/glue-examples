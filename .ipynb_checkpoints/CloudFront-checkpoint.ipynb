{
 "cells": [
  {
   "cell_type": "markdown",
   "metadata": {},
   "source": [
    "# CloudFront 日志 ETL\n",
    "这个试验将展示如果对 CloudFront 日志进行 ELT 操作，在开始前我们先从 [CloudFront Log Format](https://docs.aws.amazon.com/AmazonCloudFront/latest/DeveloperGuide/AccessLogs.html#LogFileFormat) 中了解日志的字段。\n",
    "\n",
    "该 ELT 实验有两个目的：\n",
    "* 为每一条记录增加**国家**和**城市**信息。该任务可以通过查询IP数据库完成，此处我们使用 [IP2Location Lite](https://lite.ip2location.com/) 数据库。 \n",
    "* 为每一条记录增加**设备品牌**,**操作系统**, **操作系统版本**信息。该任务可以通过解析user-agent字段完成，此处我们使用第三方Python库[user_agents](https://github.com/selwin/python-user-agents)。\n",
    "\n",
    "\n",
    "\n"
   ]
  },
  {
   "cell_type": "code",
   "execution_count": 3,
   "metadata": {},
   "outputs": [],
   "source": [
    "import sys\n",
    "from awsglue.transforms import *\n",
    "from awsglue.utils import getResolvedOptions\n",
    "from pyspark.context import SparkContext\n",
    "from awsglue.context import GlueContext\n",
    "from awsglue.job import Job\n",
    "\n",
    "glueContext = GlueContext(SparkContext.getOrCreate())"
   ]
  },
  {
   "cell_type": "code",
   "execution_count": 7,
   "metadata": {},
   "outputs": [],
   "source": [
    "from pyspark.sql.types import StringType, DoubleType, StructType, StructField, Row\n",
    "from pyspark.sql.functions import udf\n",
    "\n",
    "from ip2location import IP2Location\n",
    "from user_agents import parse\n",
    "import boto3"
   ]
  },
  {
   "cell_type": "code",
   "execution_count": 5,
   "metadata": {},
   "outputs": [],
   "source": [
    "s3 = boto3.resource('s3')\n",
    "bucket = s3.Bucket('joeshi')\n",
    "localPath = '/tmp/DB.BIN'\n",
    "bucket.download_file('PoC/Glue/artifacts/IP2LOCATION-LITE-DB5.IPV6.BIN', localPath)\n",
    "database = IP2Location.IP2Location()\n",
    "database.open(localPath)"
   ]
  },
  {
   "cell_type": "code",
   "execution_count": 1,
   "metadata": {},
   "outputs": [
    {
     "name": "stdout",
     "output_type": "stream",
     "text": [
      "Starting Spark application\n"
     ]
    },
    {
     "data": {
      "text/html": [
       "<table>\n",
       "<tr><th>ID</th><th>YARN Application ID</th><th>Kind</th><th>State</th><th>Spark UI</th><th>Driver log</th><th>Current session?</th></tr><tr><td>1</td><td>application_1548337377007_0002</td><td>pyspark</td><td>idle</td><td><a target=\"_blank\" href=\"http://ip-172-31-24-192.us-west-2.compute.internal:20888/proxy/application_1548337377007_0002/\">Link</a></td><td><a target=\"_blank\" href=\"http://ip-172-31-20-216.us-west-2.compute.internal:8042/node/containerlogs/container_1548337377007_0002_01_000001/livy\">Link</a></td><td>✔</td></tr></table>"
      ],
      "text/plain": [
       "<IPython.core.display.HTML object>"
      ]
     },
     "metadata": {},
     "output_type": "display_data"
    },
    {
     "name": "stdout",
     "output_type": "stream",
     "text": [
      "SparkSession available as 'spark'.\n"
     ]
    }
   ],
   "source": [
    "### 创建解析user-agent字段的UDF"
   ]
  },
  {
   "cell_type": "code",
   "execution_count": 8,
   "metadata": {},
   "outputs": [],
   "source": [
    "def chop_ua(ua_string):\n",
    "    user_agent = parse(ua_string.replace(\"%2520\", \" \"))\n",
    "    print(str(user_agent))\n",
    "    return Row(\"ua_os_family\", \"ua_os_version\", \"ua_device_brand\")(user_agent.os.family, user_agent.os.version_string, user_agent.device.brand)\n",
    "\n",
    "\n",
    "ua_schema = StructType([\n",
    "    StructField(\"ua_os_family\", StringType(), False),\n",
    "    StructField(\"ua_os_version\", StringType(), False),\n",
    "    StructField(\"ua_device_brand\", StringType(), False)\n",
    "])\n",
    "\n",
    "chop_ua_udf = udf(chop_ua, ua_schema)"
   ]
  },
  {
   "cell_type": "markdown",
   "metadata": {},
   "source": [
    "### 创建将 IP String 转化成 Numeric 类型的UDF"
   ]
  },
  {
   "cell_type": "code",
   "execution_count": 9,
   "metadata": {},
   "outputs": [],
   "source": [
    "def chop_c_ip(c_ip):\n",
    "    rec = database.get_all(c_ip)\n",
    "    return Row(\"country_short\",\n",
    "               \"country_long\",\n",
    "               \"city\",\n",
    "               \"latitude\",\n",
    "               \"longitude\"\n",
    "               )(rec.country_short,\n",
    "                 rec.country_long,\n",
    "                 rec.city,\n",
    "                 rec.latitude,\n",
    "                 rec.longitude)\n",
    "\n",
    "\n",
    "# 如果是某一个 Field 需要转化成多个 Column，使用 StructField来实现\n",
    "c_ip_schema = StructType([\n",
    "    StructField(\"country_short\", StringType(), False),\n",
    "    StructField(\"country_long\", StringType(), False),\n",
    "    StructField(\"city\", StringType(), False),\n",
    "    StructField(\"latitude\", DoubleType(), False),\n",
    "    StructField(\"longitude\", DoubleType(), False)\n",
    "])\n",
    "\n",
    "chop_c_ip_udf = udf(chop_c_ip, c_ip_schema)"
   ]
  },
  {
   "cell_type": "markdown",
   "metadata": {},
   "source": [
    "### 创建 CloudFront 日志的 DynamicFrame"
   ]
  },
  {
   "cell_type": "code",
   "execution_count": 10,
   "metadata": {},
   "outputs": [
    {
     "name": "stdout",
     "output_type": "stream",
     "text": [
      "Counts:  171866\n",
      "root\n",
      "|-- date: string\n",
      "|-- time: string\n",
      "|-- x_edge_location: string\n",
      "|-- sc_bytes: long\n",
      "|-- c_ip: string\n",
      "|-- cs_method: string\n",
      "|-- cs_host: string\n",
      "|-- cs_uri_stem: string\n",
      "|-- sc_status: long\n",
      "|-- cs_referer: string\n",
      "|-- cs_user_agent: string\n",
      "|-- cs_uri_query: string\n",
      "|-- cs_cookie: string\n",
      "|-- x_edge_result_type: string\n",
      "|-- x_edge_request_id: string\n",
      "|-- x_host_header: string\n",
      "|-- cs_protocol: string\n",
      "|-- cs_bytes: long\n",
      "|-- time_taken: double\n",
      "|-- x_forwarded_for: string\n",
      "|-- ssl_protocol: string\n",
      "|-- ssl_cipher: string\n",
      "|-- x_edge_response_result_type: string\n",
      "|-- cs_protocol_version: string\n",
      "|-- mbps: string"
     ]
    }
   ],
   "source": [
    "cf_logs = glueContext.create_dynamic_frame.from_catalog(database=\"cloudfront_log\", table_name=\"cloudfront\")\n",
    "print \"Counts: \", cf_logs.count()\n",
    "cf_logs.printSchema()"
   ]
  },
  {
   "cell_type": "code",
   "execution_count": 14,
   "metadata": {},
   "outputs": [],
   "source": [
    "cf_logs_df = cf_logs.toDF()"
   ]
  },
  {
   "cell_type": "code",
   "execution_count": 15,
   "metadata": {},
   "outputs": [],
   "source": [
    "cf_logs_df = cf_logs_df.withColumn(\"ua\", chop_ua_udf(cf_logs_df.cs_user_agent))\\\n",
    "    .withColumn(\"c_ip_rec\", chop_c_ip_udf(cf_logs_df.c_ip))"
   ]
  },
  {
   "cell_type": "code",
   "execution_count": 16,
   "metadata": {},
   "outputs": [
    {
     "name": "stdout",
     "output_type": "stream",
     "text": [
      "root\n",
      " |-- date: string (nullable = true)\n",
      " |-- time: string (nullable = true)\n",
      " |-- x_edge_location: string (nullable = true)\n",
      " |-- sc_bytes: long (nullable = true)\n",
      " |-- c_ip: string (nullable = true)\n",
      " |-- cs_method: string (nullable = true)\n",
      " |-- cs_host: string (nullable = true)\n",
      " |-- cs_uri_stem: string (nullable = true)\n",
      " |-- sc_status: long (nullable = true)\n",
      " |-- cs_referer: string (nullable = true)\n",
      " |-- cs_user_agent: string (nullable = true)\n",
      " |-- cs_uri_query: string (nullable = true)\n",
      " |-- cs_cookie: string (nullable = true)\n",
      " |-- x_edge_result_type: string (nullable = true)\n",
      " |-- x_edge_request_id: string (nullable = true)\n",
      " |-- x_host_header: string (nullable = true)\n",
      " |-- cs_protocol: string (nullable = true)\n",
      " |-- cs_bytes: long (nullable = true)\n",
      " |-- time_taken: double (nullable = true)\n",
      " |-- x_forwarded_for: string (nullable = true)\n",
      " |-- ssl_protocol: string (nullable = true)\n",
      " |-- ssl_cipher: string (nullable = true)\n",
      " |-- x_edge_response_result_type: string (nullable = true)\n",
      " |-- cs_protocol_version: string (nullable = true)\n",
      " |-- mbps: string (nullable = true)\n",
      " |-- ua: struct (nullable = true)\n",
      " |    |-- ua_os_family: string (nullable = false)\n",
      " |    |-- ua_os_version: string (nullable = false)\n",
      " |    |-- ua_device_brand: string (nullable = false)\n",
      " |-- c_ip_rec: struct (nullable = true)\n",
      " |    |-- country_short: string (nullable = false)\n",
      " |    |-- country_long: string (nullable = false)\n",
      " |    |-- city: string (nullable = false)\n",
      " |    |-- latitude: double (nullable = false)\n",
      " |    |-- longitude: double (nullable = false)"
     ]
    }
   ],
   "source": [
    "cf_logs_df.printSchema()"
   ]
  },
  {
   "cell_type": "code",
   "execution_count": 17,
   "metadata": {},
   "outputs": [],
   "source": [
    "cf_logs_df = cf_logs_df.select(\"x_edge_location\", \"sc_bytes\", \"c_ip\", \"cs_uri_stem\", \"cs_user_agent\", \"x_edge_result_type\",\n",
    "                       \"time_taken\", \"x_edge_response_result_type\", \"ua.*\", \"c_ip_rec.*\")"
   ]
  },
  {
   "cell_type": "markdown",
   "metadata": {},
   "source": [
    "显示前10条结果"
   ]
  },
  {
   "cell_type": "code",
   "execution_count": 18,
   "metadata": {},
   "outputs": [
    {
     "name": "stdout",
     "output_type": "stream",
     "text": [
      "+---------------+--------+---------------+--------------------+--------------------+------------------+----------+---------------------------+------------+-------------+---------------+-------------+--------------------+--------------------+---------+----------+\n",
      "|x_edge_location|sc_bytes|           c_ip|         cs_uri_stem|       cs_user_agent|x_edge_result_type|time_taken|x_edge_response_result_type|ua_os_family|ua_os_version|ua_device_brand|country_short|        country_long|                city| latitude| longitude|\n",
      "+---------------+--------+---------------+--------------------+--------------------+------------------+----------+---------------------------+------------+-------------+---------------+-------------+--------------------+--------------------+---------+----------+\n",
      "|        LAX3-C2|  343740|187.171.189.171|/assets/Release4/...|Dalvik/2.1.0%2520...|               Hit|     0.001|                        Hit|     Android|          5.1|Generic_Android|           MX|              Mexico|Comitan de Dominguez|    16.25|-92.133331|\n",
      "|          MIA50|   85392| 190.56.117.131|/assets/Release4/...|Dalvik/2.1.0%2520...|               Hit|     0.001|                        Hit|     Android|          7.0|        Samsung|           GT|           Guatemala|      Guatemala City| 14.64072|-90.513268|\n",
      "|       TPE52-C1|  250879|  114.47.169.99|/assets/OverseasI...|zombies/1.6%2520C...|               Hit|     0.001|                        Hit|       Other|             |          Apple|           TW|Taiwan, Province ...|              Taipei| 25.04776|121.531853|\n",
      "|          FRA54|  390696| 185.101.16.202|/assets/Release4/...|Dalvik/2.1.0%2520...|               Hit|     0.001|                        Hit|     Android|          7.0|        Samsung|           LB|             Lebanon|             Tripoli|34.436668|  35.84972|\n",
      "|          CDG50|    2571|  217.118.64.57|/assets/Release4/...|Dalvik/2.1.0%2520...|               Hit|     0.001|                        Hit|     Android|          7.0|Generic_Android|           RU|  Russian Federation|              Namtsy| 62.71611|129.665833|\n",
      "|        LAX3-C2|  346231|187.171.189.171|/assets/Release4/...|Dalvik/2.1.0%2520...|               Hit|     0.002|                        Hit|     Android|          5.1|Generic_Android|           MX|              Mexico|Comitan de Dominguez|    16.25|-92.133331|\n",
      "|          MIA50|   79601| 190.56.117.131|/assets/Release4/...|Dalvik/2.1.0%2520...|               Hit|     0.001|                        Hit|     Android|          7.0|        Samsung|           GT|           Guatemala|      Guatemala City| 14.64072|-90.513268|\n",
      "|        SIN5-C1|  565283|  183.171.95.52|/assets/Release4/...|Dalvik/2.1.0%2520...|               Hit|     0.001|                        Hit|     Android|          5.0|           Asus|           MY|            Malaysia|              Melaka| 2.205692|102.256134|\n",
      "|        SIN5-C1|  355015|  119.30.39.195|/assets/Release4/...|Dalvik/2.1.0%2520...|               Hit|     0.002|                        Hit|     Android|        5.1.1|Generic_Android|           BD|          Bangladesh|              Khulna| 22.81348|  89.56723|\n",
      "|        SIN5-C1|  358688|  119.30.39.195|/assets/Release4/...|Dalvik/2.1.0%2520...|               Hit|       0.0|                        Hit|     Android|        5.1.1|Generic_Android|           BD|          Bangladesh|              Khulna| 22.81348|  89.56723|\n",
      "+---------------+--------+---------------+--------------------+--------------------+------------------+----------+---------------------------+------------+-------------+---------------+-------------+--------------------+--------------------+---------+----------+\n",
      "only showing top 10 rows"
     ]
    }
   ],
   "source": [
    "cf_logs_df.show(10);"
   ]
  },
  {
   "cell_type": "markdown",
   "metadata": {},
   "source": [
    "### 将清洗完的结果输出\n",
    "\n",
    "将清洗完的结果输出到 `s3://joeshi/PoC/Glue/job/cloudfront_etl_test/`;\n",
    "\n",
    "建议使用 **Parquet** 或者 **ORC** 作为输出格式，这种列式存储的文件更适合大数据的查询."
   ]
  },
  {
   "cell_type": "code",
   "execution_count": null,
   "metadata": {},
   "outputs": [],
   "source": [
    "cf_logs = DynamicFrame.fromDF(cf_los_df, glueContext, \"cloudfront_parquet\")\n",
    "glueContext.write_dynamic_frame.from_options(frame = output,\n",
    "                                             connection_type = \"s3\",\n",
    "                                             connection_options = {\"path\": \"s3://joeshi/PoC/Glue/job/cloudfront_etl_test/\"},\n",
    "                                             format = \"parquet\")"
   ]
  }
 ],
 "metadata": {
  "kernelspec": {
   "display_name": "Sparkmagic (PySpark)",
   "language": "",
   "name": "pysparkkernel"
  },
  "language_info": {
   "codemirror_mode": {
    "name": "python",
    "version": 2
   },
   "mimetype": "text/x-python",
   "name": "pyspark",
   "pygments_lexer": "python2"
  }
 },
 "nbformat": 4,
 "nbformat_minor": 2
}
